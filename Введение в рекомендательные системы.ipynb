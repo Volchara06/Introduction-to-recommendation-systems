{
 "cells": [
  {
   "cell_type": "code",
   "execution_count": 1,
   "id": "b0e304f0-d180-4876-8a63-dd77bf1c2979",
   "metadata": {},
   "outputs": [
    {
     "name": "stdout",
     "output_type": "stream",
     "text": [
      "Топ-3 рекомендованных фильма для пользователя с id=7:\n",
      "1. Natural Born Killers (1994)\n",
      "2. Assassination of Jesse James by the Coward Robert Ford, The (2007)\n",
      "3. WALL·E (2008)\n"
     ]
    }
   ],
   "source": [
    "# Импорт необходимых библиотек\n",
    "import pandas as pd\n",
    "import numpy as np\n",
    "from sklearn.metrics.pairwise import cosine_similarity\n",
    "from sklearn.feature_extraction.text import TfidfVectorizer\n",
    "\n",
    "# Загрузка данных\n",
    "movies = pd.read_csv(r\"C:\\Users\\den19\\OneDrive\\Рабочий стол\\Обучение\\Введение в рекомендательные системы\\movies.csv\")\n",
    "ratings = pd.read_csv(r\"C:\\Users\\den19\\OneDrive\\Рабочий стол\\Обучение\\Введение в рекомендательные системы\\ratings.csv\")\n",
    "\n",
    "# Объединение данных\n",
    "movie_ratings = pd.merge(movies, ratings, on='movieId')\n",
    "\n",
    "# Фильмы, которые пользователь уже смотрел\n",
    "watched_movies = movie_ratings[movie_ratings['userId'] == 7]['movieId'].unique()\n",
    "\n",
    "# Все фильмы в датасете\n",
    "all_movies = movies['movieId'].unique()\n",
    "\n",
    "# Фильмы, которые пользователь не смотрел\n",
    "unwatched_movies = np.setdiff1d(all_movies, watched_movies)\n",
    "\n",
    "# Создание матрицы пользователь-фильм\n",
    "user_movie_matrix = ratings.pivot_table(index='userId', columns='movieId', values='rating')\n",
    "\n",
    "# Заполнение пропущенных значений\n",
    "user_movie_matrix = user_movie_matrix.fillna(0)\n",
    "\n",
    "# Вычисление косинусного сходства между пользователями\n",
    "user_similarity = cosine_similarity(user_movie_matrix)\n",
    "\n",
    "# Преобразование в DataFrame\n",
    "user_similarity_df = pd.DataFrame(user_similarity, index=user_movie_matrix.index, columns=user_movie_matrix.index)\n",
    "\n",
    "# Получение похожих пользователей\n",
    "similar_users = user_similarity_df[7].sort_values(ascending=False)[1:11].index\n",
    "\n",
    "# Фильмы, которые понравились похожим пользователям\n",
    "recommendations = ratings[\n",
    "    (ratings['userId'].isin(similar_users)) & \n",
    "    (ratings['movieId'].isin(unwatched_movies)) & \n",
    "    (ratings['rating'] >= 4.0)\n",
    "]\n",
    "\n",
    "# Группировка по movieId и расчет среднего рейтинга\n",
    "top_recommendations = recommendations.groupby('movieId')['rating'].mean().sort_values(ascending=False).head(3)\n",
    "\n",
    "# Получение названий топ-3 рекомендованных фильмов\n",
    "top_3_movies = movies[movies['movieId'].isin(top_recommendations.index)]['title'].tolist()\n",
    "\n",
    "# Вывод результатов\n",
    "print(\"Топ-3 рекомендованных фильма для пользователя с id=7:\")\n",
    "for i, movie in enumerate(top_3_movies, 1):\n",
    "    print(f\"{i}. {movie}\")"
   ]
  },
  {
   "cell_type": "code",
   "execution_count": null,
   "id": "a9c5531d-4af9-4704-acd5-cbc6ee2c2456",
   "metadata": {},
   "outputs": [],
   "source": []
  }
 ],
 "metadata": {
  "kernelspec": {
   "display_name": "Python 3 (ipykernel)",
   "language": "python",
   "name": "python3"
  },
  "language_info": {
   "codemirror_mode": {
    "name": "ipython",
    "version": 3
   },
   "file_extension": ".py",
   "mimetype": "text/x-python",
   "name": "python",
   "nbconvert_exporter": "python",
   "pygments_lexer": "ipython3",
   "version": "3.12.4"
  }
 },
 "nbformat": 4,
 "nbformat_minor": 5
}
